{
  "nbformat": 4,
  "nbformat_minor": 0,
  "metadata": {
    "colab": {
      "name": "solidity-robot🤖.ipynb",
      "provenance": []
    },
    "kernelspec": {
      "name": "python3",
      "display_name": "Python 3"
    },
    "language_info": {
      "name": "python"
    },
    "accelerator": "GPU"
  },
  "cells": [
    {
      "cell_type": "markdown",
      "metadata": {
        "id": "Uy_kz5het5wa"
      },
      "source": [
        "[<img width=\"200\" alt=\"get in touch with Consensys Diligence\" src=\"https://user-images.githubusercontent.com/2865694/56826101-91dcf380-685b-11e9-937c-af49c2510aa0.png\">](https://diligence.consensys.net)<br/>\n",
        "<sup>\n",
        "[[  🌐  ](https://diligence.consensys.net)  [  📩  ](https://github.com/ConsenSys/vscode-solidity-doppelganger/blob/master/mailto:diligence@consensys.net)  [  🔥  ](https://consensys.github.io/diligence/)]\n",
        "</sup><br/><br/>\n",
        "\n",
        "\n",
        "# Hallucinate.sol - train & predict"
      ]
    },
    {
      "cell_type": "markdown",
      "metadata": {
        "id": "qccfvi1fkbNK"
      },
      "source": [
        "## Initialization magic\n",
        "\n",
        "We're training on google collab because it is much faster than on a normal pc. For this, we'll want to make the modules that download the source-samples and thrain the RNN available on google drive.\n",
        "\n",
        "1. copy the files from https://github.com/tintinweb/hallucinate.sol to your personal google drive into `/MyDrive/collab/solidity-gen`\n",
        "2. run the next two steps and provide your authenticator token \n"
      ]
    },
    {
      "cell_type": "code",
      "metadata": {
        "id": "OpWgMJEZ9wz7"
      },
      "source": [
        "%tensorflow_version 2.x"
      ],
      "execution_count": 1,
      "outputs": []
    },
    {
      "cell_type": "code",
      "metadata": {
        "id": "H7ZRJKel9LaW",
        "colab": {
          "base_uri": "https://localhost:8080/"
        },
        "outputId": "8fd1d3de-8f1e-48de-d148-25504cbd58a1"
      },
      "source": [
        "import os\n",
        "from google.colab import drive\n",
        "drive.mount('/content/drive', force_remount=True)\n",
        "os.chdir('/content/drive/MyDrive/collab/solidity-gen')\n",
        "!ls -lsat '/content/drive/MyDrive/collab/solidity-gen'\n",
        "###\n",
        "from soliditygen import *\n",
        "import soliditygen\n",
        "import importlib\n",
        "importlib.reload(soliditygen)"
      ],
      "execution_count": 2,
      "outputs": [
        {
          "output_type": "stream",
          "name": "stdout",
          "text": [
            "Mounted at /content/drive\n",
            "total 20\n",
            "8 -rw------- 1 root root 8188 Nov 10 12:19 soliditygen.py\n",
            "4 drwx------ 2 root root 4096 Nov 10 10:56 one_step\n",
            "4 drwx------ 2 root root 4096 Nov 10 10:40 training_checkpoints\n",
            "4 drwx------ 2 root root 4096 Nov 10 09:32 __pycache__\n"
          ]
        },
        {
          "output_type": "execute_result",
          "data": {
            "text/plain": [
              "<module 'soliditygen' from '/content/drive/MyDrive/collab/solidity-gen/soliditygen.py'>"
            ]
          },
          "metadata": {},
          "execution_count": 2
        }
      ]
    },
    {
      "cell_type": "markdown",
      "metadata": {
        "id": "IpR1Q_kxlh4W"
      },
      "source": [
        "## Download Training Data\n",
        "\n",
        "we'll download up to `maxfiles` or `maxlen` samples from https://github.com/tintinweb/smart-contract-inspector, clean them up, and concatename to one big sample file.\n",
        "\n",
        "Note that we can do this multiple times to retrain the model."
      ]
    },
    {
      "cell_type": "code",
      "metadata": {
        "colab": {
          "base_uri": "https://localhost:8080/"
        },
        "id": "5jslRxvwDq1_",
        "outputId": "7a596413-c5bf-415f-9724-26723642200b"
      },
      "source": [
        "# get trainingdata\n",
        "trainingData = SolidityTrainer.get_training_data(maxfiles=3000, maxlen=15_000_000)"
      ],
      "execution_count": 3,
      "outputs": [
        {
          "output_type": "stream",
          "name": "stdout",
          "text": [
            "16384/4419 [===============================================================================================================] - 0s 0us/step\n",
            "Downloading data from https://raw.githubusercontent.com/tintinweb/smart-contract-sanctuary/master/contracts/mainnet/fe/fe1b613f17f984e27239b0b2dccfb1778888dfae_InstaDice.sol\n",
            "32768/29362 [=================================] - 0s 0us/step\n",
            "40960/29362 [=========================================] - 0s 0us/step\n",
            "Downloading data from https://raw.githubusercontent.com/tintinweb/smart-contract-sanctuary/master/contracts/mainnet/ec/ec89b7365d6ecbf961564d5312b43920d979ccd3_Crowdsale.sol\n",
            "16384/4563 [===========================================================================================================] - 0s 0us/step\n",
            "Downloading data from https://raw.githubusercontent.com/tintinweb/smart-contract-sanctuary/master/contracts/mainnet/f0/f00c724e4ba507ac9895972a7115442c54a836ae_Radix.sol\n",
            "16384/7412 [==================================================================] - 0s 0us/step\n",
            "Downloading data from https://raw.githubusercontent.com/tintinweb/smart-contract-sanctuary/master/contracts/mainnet/8f/8fea38e8fb15ce7b0c076297d05d0d4c2c0a3a6f_ETNToken.sol\n",
            "16384/11787 [=========================================] - 0s 0us/step\n",
            "24576/11787 [==============================================================] - 0s 0us/step\n",
            "Downloading data from https://raw.githubusercontent.com/tintinweb/smart-contract-sanctuary/master/contracts/mainnet/86/86b784aef0e9c9a581550ba07fb85b64c780c320_RC.sol\n",
            "24576/24059 [==============================] - 0s 0us/step\n",
            "32768/24059 [========================================] - 0s 0us/step\n",
            "Downloading data from https://raw.githubusercontent.com/tintinweb/smart-contract-sanctuary/master/contracts/mainnet/39/39e51bbd1200910fab6ed35065b3a482935bff96_FINXToken.sol\n",
            "16384/7554 [=================================================================] - 0s 0us/step\n",
            "Downloading data from https://raw.githubusercontent.com/tintinweb/smart-contract-sanctuary/master/contracts/mainnet/1d/1d69df58024913159eabab9f816d26c89754e535_BourseToken.sol\n",
            "16384/9335 [====================================================] - 0s 0us/step\n",
            "24576/9335 [==============================================================================] - 0s 0us/step\n",
            "Downloading data from https://raw.githubusercontent.com/tintinweb/smart-contract-sanctuary/master/contracts/mainnet/3c/3c1634291868ddffa037222991babfccd8400921_ParsecCrowdsale.sol\n",
            "32768/29216 [=================================] - 0s 0us/step\n",
            "40960/29216 [==========================================] - 0s 0us/step\n",
            "Downloading data from https://raw.githubusercontent.com/tintinweb/smart-contract-sanctuary/master/contracts/mainnet/fb/fb33ebeff9d4299624c4fd8d157e8df3ecf552ad_CoinnupToken.sol\n",
            "24576/16644 [============================================] - 0s 0us/step\n",
            "32768/16644 [===========================================================] - 0s 0us/step\n",
            "Downloading data from https://raw.githubusercontent.com/tintinweb/smart-contract-sanctuary/master/contracts/mainnet/69/69f11196e189dd445dc1ffb985636692a34cbe33_BancorHandler.sol\n",
            "16384/2873 [===========================================================================================================================================================================] - 0s 0us/step\n",
            "Downloading data from https://raw.githubusercontent.com/tintinweb/smart-contract-sanctuary/master/contracts/mainnet/68/68b1a67786f78b7a9a140c17864da69e3867c333_Pyrgressive.sol\n",
            "32768/26394 [=====================================] - 0s 0us/step\n",
            "40960/26394 [==============================================] - 0s 0us/step\n",
            "Downloading data from https://raw.githubusercontent.com/tintinweb/smart-contract-sanctuary/master/contracts/mainnet/17/175744fb0849584129fa3d0e6350c00206d95d2f_Contract.sol\n",
            "16384/8651 [========================================================] - 0s 0us/step\n",
            "24576/8651 [=====================================================================================] - 0s 0us/step\n",
            "Downloading data from https://raw.githubusercontent.com/tintinweb/smart-contract-sanctuary/master/contracts/mainnet/dd/dd16ef1b7f30cbebf00807515375dc252957713b_RaindropClient.sol\n",
            "16384/10633 [==============================================] - 0s 0us/step\n",
            "24576/10633 [=====================================================================] - 0s 0us/step\n",
            "Downloading data from https://raw.githubusercontent.com/tintinweb/smart-contract-sanctuary/master/contracts/mainnet/b3/b311620744b585cb108bdf3efed0b4d7fe95e14c_StringUtils.sol\n",
            "16384/3033 [==================================================================================================================================================================] - 0s 0us/step\n",
            "Downloading data from https://raw.githubusercontent.com/tintinweb/smart-contract-sanctuary/master/contracts/mainnet/37/37ABEaC8c47c2e806FF98D9FFEf9E945f96699e7_CryptoPoliceProxy.sol\n",
            "16384/2961 [=====================================================================================================================================================================] - 0s 0us/step\n",
            "Downloading data from https://raw.githubusercontent.com/tintinweb/smart-contract-sanctuary/master/contracts/mainnet/6b/6bade5d03fa771627fa82470e86dbe13b8b77428_Needit.sol\n",
            "16384/8463 [==========================================================] - 0s 0us/step\n",
            "24576/8463 [=======================================================================================] - 0s 0us/step\n",
            "Downloading data from https://raw.githubusercontent.com/tintinweb/smart-contract-sanctuary/master/contracts/mainnet/9a/9afd5b8c6b429d6e254ceadfec560d06a4216f95_BurnableCrowdsaleToken.sol\n",
            "32768/24700 [=======================================] - 0s 0us/step\n",
            "40960/24700 [=================================================] - 0s 0us/step\n",
            "Downloading data from https://raw.githubusercontent.com/tintinweb/smart-contract-sanctuary/master/contracts/mainnet/66/66bad545596fb17a0b4ebdc003a85def10e8f6ae_WikiToken.sol\n",
            "16384/12510 [=======================================] - 0s 0us/step\n",
            "24576/12510 [==========================================================] - 0s 0us/step\n",
            "Downloading data from https://raw.githubusercontent.com/tintinweb/smart-contract-sanctuary/master/contracts/mainnet/00/0080d4b7be95b550a69e8789340baa38da771743_XPAAssetToken.sol\n",
            "24576/18420 [========================================] - 0s 0us/step\n",
            "32768/18420 [=====================================================] - 0s 0us/step\n",
            "Downloading data from https://raw.githubusercontent.com/tintinweb/smart-contract-sanctuary/master/contracts/mainnet/de/de67c7df62c27d996d72d8b106022885f5a81d30_CryptoPoliceCrowdsale.sol\n",
            "24576/18798 [=======================================] - 0s 0us/step\n",
            "32768/18798 [====================================================] - 0s 0us/step\n",
            "Downloading data from https://raw.githubusercontent.com/tintinweb/smart-contract-sanctuary/master/contracts/mainnet/15/157619745fad54b257213a9203a96471e34bb875_MultiSigWallet.sol\n",
            "16384/12948 [=====================================] - 0s 0us/step\n",
            "24576/12948 [========================================================] - 0s 0us/step\n",
            "Downloading data from https://raw.githubusercontent.com/tintinweb/smart-contract-sanctuary/master/contracts/mainnet/31/31f53da58a9eee2b8c07092a43fb64f649345147_BGFCrowdsale.sol\n",
            "24576/18634 [=======================================] - 0s 0us/step\n",
            "32768/18634 [====================================================] - 0s 0us/step\n",
            "Downloading data from https://raw.githubusercontent.com/tintinweb/smart-contract-sanctuary/master/contracts/mainnet/3a/3aEdDbF188636c73F634250A17edfB1CFAf6A494_TokenVesting.sol\n",
            "16384/5978 [==================================================================================] - 0s 0us/step\n",
            "Downloading data from https://raw.githubusercontent.com/tintinweb/smart-contract-sanctuary/master/contracts/mainnet/ec/eca2967b2a2cc584495b2226372bc0dde481f857_Yiha.sol\n",
            "24576/16697 [============================================] - 0s 0us/step\n",
            "32768/16697 [==========================================================] - 0s 0us/step\n",
            "Downloading data from https://raw.githubusercontent.com/tintinweb/smart-contract-sanctuary/master/contracts/mainnet/a9/a9d3f3bc16a971fe51a02aa6f8a75f569693e415_CryptoPoliceCrowdsale.sol\n",
            "24576/18795 [=======================================] - 0s 0us/step\n",
            "32768/18795 [====================================================] - 0s 0us/step\n",
            "Downloading data from https://raw.githubusercontent.com/tintinweb/smart-contract-sanctuary/master/contracts/mainnet/f6/f61052b9e16d20e210364b555161cce140aba0e6_XWALLET.sol\n",
            "16384/5231 [=============================================================================================] - 0s 0us/step\n",
            "Downloading data from https://raw.githubusercontent.com/tintinweb/smart-contract-sanctuary/master/contracts/mainnet/38/38f9ff2e8cd3227d0278fb4d945ff8c03c4c9ef6_GCCTokenICO.sol\n",
            "24576/18907 [======================================] - 0s 0us/step\n",
            "32768/18907 [===================================================] - 0s 0us/step\n",
            "Downloading data from https://raw.githubusercontent.com/tintinweb/smart-contract-sanctuary/master/contracts/mainnet/3c/3c24f5560797280F12E190cac7e5711a73c91c63_VestingMasterContract.sol\n",
            "16384/15826 [===============================] - 0s 0us/step\n",
            "24576/15826 [==============================================] - 0s 0us/step\n",
            "Downloading data from https://raw.githubusercontent.com/tintinweb/smart-contract-sanctuary/master/contracts/mainnet/94/944885efa521e54cb94f75e7d7d57c281d67cc38_FABIToken.sol\n",
            "16384/4645 [=========================================================================================================] - 0s 0us/step\n",
            "Downloading data from https://raw.githubusercontent.com/tintinweb/smart-contract-sanctuary/master/contracts/mainnet/0c/0c116eaa8ebbfbd4295c3361243441f6b50247f7_BIFAToken.sol\n",
            "16384/4646 [=========================================================================================================] - 0s 0us/step\n",
            "Downloading data from https://raw.githubusercontent.com/tintinweb/smart-contract-sanctuary/master/contracts/mainnet/4b/4b5c88a857e35fa37328569fd4c3473bf7903300_ZontoToken.sol\n",
            "16384/13355 [====================================] - 0s 0us/step\n",
            "24576/13355 [=======================================================] - 0s 0us/step\n",
            "Downloading data from https://raw.githubusercontent.com/tintinweb/smart-contract-sanctuary/master/contracts/mainnet/5a/5a3c9a1725aa82690ee0959c89abe96fd1b527ee_PiedPiperCoin.sol\n",
            "16384/7661 [================================================================] - 0s 0us/step\n",
            "Downloading data from https://raw.githubusercontent.com/tintinweb/smart-contract-sanctuary/master/contracts/mainnet/35/358465f17278e217c4ef171f9203c0f7737ca965_EntryToken.sol\n",
            "24576/17188 [==========================================] - 0s 0us/step\n",
            "32768/17188 [=========================================================] - 0s 0us/step\n",
            "Downloading data from https://raw.githubusercontent.com/tintinweb/smart-contract-sanctuary/master/contracts/mainnet/ac/ac1f05c434f4003de7617fd0e3f01bd5140ec7ff_AlchemyMarket.sol\n",
            "32768/29743 [=================================] - 0s 0us/step\n",
            "40960/29743 [=========================================] - 0s 0us/step\n",
            "Downloading data from https://raw.githubusercontent.com/tintinweb/smart-contract-sanctuary/master/contracts/mainnet/47/47eb74b7e9c0c3d704cbbe7517401412a4a07f00_Fortune.sol\n",
            "16384/8920 [=======================================================] - 0s 0us/step\n",
            "24576/8920 [==================================================================================] - 0s 0us/step\n",
            "Downloading data from https://raw.githubusercontent.com/tintinweb/smart-contract-sanctuary/master/contracts/mainnet/19/19126de222e01b4bbcf0d5844a9dfb17ab08ed43_PalestinePound.sol\n",
            "16384/9351 [====================================================] - 0s 0us/step\n",
            "24576/9351 [==============================================================================] - 0s 0us/step\n",
            "Downloading data from https://raw.githubusercontent.com/tintinweb/smart-contract-sanctuary/master/contracts/mainnet/ae/ae66dda93a2ac29e45136e9c4558dc35762c6089_ZJLToken.sol\n",
            "16384/11202 [===========================================] - 0s 0us/step\n",
            "24576/11202 [=================================================================] - 0s 0us/step\n",
            "Downloading data from https://raw.githubusercontent.com/tintinweb/smart-contract-sanctuary/master/contracts/mainnet/a3/A3CEaC0AAc5c5d868973e546cE4731Ba90e873c2_CrowdsaleTokenExt.sol\n",
            "24576/22407 [================================] - 0s 0us/step\n",
            "32768/22407 [===========================================] - 0s 0us/step\n",
            "Downloading data from https://raw.githubusercontent.com/tintinweb/smart-contract-sanctuary/master/contracts/mainnet/2a/2a3a06742773Fd5B96FB10682E58De0DC8f797a1_SafeMathLibExt.sol\n",
            "16384/1157 [========================================================================================================================================================================================================================================================================================================================================================================================================================================] - 0s 0us/step\n",
            "Downloading data from https://raw.githubusercontent.com/tintinweb/smart-contract-sanctuary/master/contracts/mainnet/4c/4c2b12b0b55bb905d1ab300864213270033d361c_BENEFITToken.sol\n",
            "16384/13620 [====================================] - 0s 0us/step\n",
            "24576/13620 [======================================================] - 0s 0us/step\n",
            "Downloading data from https://raw.githubusercontent.com/tintinweb/smart-contract-sanctuary/master/contracts/mainnet/cc/ccf7722a1eef2be04130a3432d01667d02e3bf9a_EverydayTokenStandardToken.sol\n",
            "16384/7098 [=====================================================================] - 0s 0us/step\n",
            "Downloading data from https://raw.githubusercontent.com/tintinweb/smart-contract-sanctuary/master/contracts/mainnet/21/21d6c16db26c955229e749be34b4445529782632_SimpleTokenCoin.sol\n",
            "16384/1536 [================================================================================================================================================================================================================================================================================================================================] - 0s 0us/step\n",
            "Downloading data from https://raw.githubusercontent.com/tintinweb/smart-contract-sanctuary/master/contracts/mainnet/bc/bc34985b4d345aea933d5cac19f3a86bd1fb398f_ZJLTToken.sol\n",
            "16384/11230 [===========================================] - 0s 0us/step\n",
            "24576/11230 [=================================================================] - 0s 0us/step\n",
            "Downloading data from https://raw.githubusercontent.com/tintinweb/smart-contract-sanctuary/master/contracts/mainnet/a6/a6c9399079e3b62a6312bad4740a4de8829c93b4_Yuri.sol\n",
            "16384/5227 [==============================================================================================] - 0s 0us/step\n",
            "Downloading data from https://raw.githubusercontent.com/tintinweb/smart-contract-sanctuary/master/contracts/mainnet/05/05eed0f5dd29604ead4b2a717c5d9978ef1d2d77_gwtoken.sol\n",
            "16384/3924 [=============================================================================================================================] - 0s 0us/step\n",
            "Downloading data from https://raw.githubusercontent.com/tintinweb/smart-contract-sanctuary/master/contracts/mainnet/a4/a4e49d539c13e92bad2f853559a31b549ad49a5a_KYCPresale.sol\n",
            "32768/29993 [================================] - 0s 0us/step\n",
            "40960/29993 [========================================] - 0s 0us/step\n",
            "Downloading data from https://raw.githubusercontent.com/tintinweb/smart-contract-sanctuary/master/contracts/mainnet/f2/F2bb016e8C9C8975654dcd62f318323A8A79D48E_TrueTogetherToken.sol\n",
            "16384/6892 [=======================================================================] - 0s 0us/step\n",
            "Downloading data from https://raw.githubusercontent.com/tintinweb/smart-contract-sanctuary/master/contracts/mainnet/2a/2a1dbabe65c595b0022e75208c34014139d5d357_TrustedhealthToken.sol\n",
            "16384/7094 [=====================================================================] - 0s 0us/step\n",
            "Downloading data from https://raw.githubusercontent.com/tintinweb/smart-contract-sanctuary/master/contracts/mainnet/0e/0e69d0a2bbb30abcb7e5cfea0e4fde19c00a8d47_IOVToken.sol\n",
            "16384/10117 [================================================] - 0s 0us/step\n",
            "24576/10117 [========================================================================] - 0s 0us/step\n",
            "Downloading data from https://raw.githubusercontent.com/tintinweb/smart-contract-sanctuary/master/contracts/mainnet/55/55a15cFfD4dEef3bA6E1A2B928A60fb35180E36B_CRYPTOBITECOIN.sol\n",
            "16384/11907 [=========================================] - 0s 0us/step\n",
            "24576/11907 [=============================================================] - 0s 0us/step\n",
            "Downloading data from https://raw.githubusercontent.com/tintinweb/smart-contract-sanctuary/master/contracts/mainnet/21/219fa49440c6c7d9f21c0f2c87d638b35382ab5a_APB.sol\n",
            "24576/16444 [============================================] - 0s 0us/step\n",
            "32768/16444 [===========================================================] - 0s 0us/step\n",
            "Downloading data from https://raw.githubusercontent.com/tintinweb/smart-contract-sanctuary/master/contracts/mainnet/68/686847351a61eb1cae8ac0efa4208ff689fd53f2_Gift_for_friend.sol\n",
            "16384/929 [=================================================================================================================================================================================================================================================================================================================================================================================================================================================================================================================================================] - 0s 0us/step\n",
            "Downloading data from https://raw.githubusercontent.com/tintinweb/smart-contract-sanctuary/master/contracts/mainnet/b7/b7e301eec28c53f6ebf1808665ef84b1bbfe61d0_MyAdvancedToken.sol\n",
            "16384/9996 [=================================================] - 0s 0us/step\n",
            "24576/9996 [=========================================================================] - 0s 0us/step\n",
            "Downloading data from https://raw.githubusercontent.com/tintinweb/smart-contract-sanctuary/master/contracts/mainnet/c7/c7F1c3500496771B2Ef4e17aD10624131adE5Cd9_COE.sol\n",
            "16384/11433 [==========================================] - 0s 0us/step\n",
            "24576/11433 [================================================================] - 0s 0us/step\n",
            "Downloading data from https://raw.githubusercontent.com/tintinweb/smart-contract-sanctuary/master/contracts/mainnet/2e/2ea20ba1c704db0822b78e146cd7a5f3b0342fb1_ZJLTToken.sol\n",
            "16384/11235 [===========================================] - 0s 0us/step\n",
            "24576/11235 [=================================================================] - 0s 0us/step\n",
            "Downloading data from https://raw.githubusercontent.com/tintinweb/smart-contract-sanctuary/master/contracts/mainnet/86/864de9e8dfe7477c2eda4de13a6cac52500d22f7_TutorialToken.sol\n",
            "16384/10471 [==============================================] - 0s 0us/step\n",
            "24576/10471 [======================================================================] - 0s 0us/step\n",
            "Downloading data from https://raw.githubusercontent.com/tintinweb/smart-contract-sanctuary/master/contracts/mainnet/e8/e8940b7d6f17f24583894f807bc2764aa635d36b_JCB.sol\n",
            "16384/15952 [==============================] - 0s 0us/step\n",
            "24576/15952 [==============================================] - 0s 0us/step\n",
            "Downloading data from https://raw.githubusercontent.com/tintinweb/smart-contract-sanctuary/master/contracts/mainnet/7e/7e8a2e5876453ea41936c64678de81ae40522bb3_CryptoSagaDungeonVer1.sol\n",
            "73728/69529 [===============================] - 0s 0us/step\n",
            "81920/69529 [===================================] - 0s 0us/step\n",
            "Downloading data from https://raw.githubusercontent.com/tintinweb/smart-contract-sanctuary/master/contracts/mainnet/66/6685b989d985a389d136519462a2b115798f6a88_UTCT.sol\n",
            "16384/9473 [===================================================] - 0s 0us/step\n",
            "24576/9473 [=============================================================================] - 0s 0us/step\n",
            "Downloading data from https://raw.githubusercontent.com/tintinweb/smart-contract-sanctuary/master/contracts/mainnet/f7/f7a110bdb7010ea94f2d523cd628af3d5726ae20_RCpro.sol\n",
            "24576/24059 [==============================] - 0s 0us/step\n",
            "32768/24059 [========================================] - 0s 0us/step\n",
            "Downloading data from https://raw.githubusercontent.com/tintinweb/smart-contract-sanctuary/master/contracts/mainnet/44/44129f5ef245ad4a05c530ceaa377b0b0ed524b0_CLIBUXCoin.sol\n",
            "16384/7404 [==================================================================] - 0s 0us/step\n",
            "Downloading data from https://raw.githubusercontent.com/tintinweb/smart-contract-sanctuary/master/contracts/mainnet/8d/8d127d7d6262f7cafc19e0ebffffaed29aec0457_FixedSupplyToken.sol\n",
            "16384/8948 [======================================================] - 0s 0us/step\n",
            "24576/8948 [==================================================================================] - 0s 0us/step\n",
            "Downloading data from https://raw.githubusercontent.com/tintinweb/smart-contract-sanctuary/master/contracts/mainnet/46/4681216cbf7727b2c6974d6fd7ec7289d5113566_VLOGCoin.sol\n",
            "16384/5812 [====================================================================================] - 0s 0us/step\n",
            "Downloading data from https://raw.githubusercontent.com/tintinweb/smart-contract-sanctuary/master/contracts/mainnet/b8/b8a037660cb36ff8d261d85f84c5a9e1077652b2_EncryptedToken.sol\n",
            "16384/6011 [=================================================================================] - 0s 0us/step\n",
            "Downloading data from https://raw.githubusercontent.com/tintinweb/smart-contract-sanctuary/master/contracts/mainnet/f8/f85112919e478fcf33423012ed2ddc36bed6c512_TokenERC20.sol\n",
            "16384/5962 [==================================================================================] - 0s 0us/step\n",
            "Downloading data from https://raw.githubusercontent.com/tintinweb/smart-contract-sanctuary/master/contracts/mainnet/65/6580c6a7bb02981d403d25eeb95f45c331a6bf76_APC.sol\n",
            "24576/16444 [============================================] - 0s 0us/step\n",
            "32768/16444 [===========================================================] - 0s 0us/step\n",
            "Downloading data from https://raw.githubusercontent.com/tintinweb/smart-contract-sanctuary/master/contracts/mainnet/65/65989eF43806Fefd20223826AD0c4dCDD310aDCd_MultiSigWallet.sol\n",
            "16384/11643 [==========================================] - 0s 0us/step\n",
            "24576/11643 [===============================================================] - 0s 0us/step\n",
            "Downloading data from https://raw.githubusercontent.com/tintinweb/smart-contract-sanctuary/master/contracts/mainnet/fd/fd0cc0f0e20bb5aa423b08de4cab70a53cf1ffda_TokenERC20.sol\n",
            "16384/5966 [==================================================================================] - 0s 0us/step\n",
            "Downloading data from https://raw.githubusercontent.com/tintinweb/smart-contract-sanctuary/master/contracts/mainnet/62/620df5a4fd16424e75bdd86d359c7d1487e4072d_LADYCoin.sol\n",
            "16384/5812 [====================================================================================] - 0s 0us/step\n",
            "Downloading data from https://raw.githubusercontent.com/tintinweb/smart-contract-sanctuary/master/contracts/mainnet/14/14A8B67ae05379308eD21FcBa4bbbcF6fD418840_LoversForLife.sol\n",
            "16384/1239 [============================================================================================================================================================================================================================================================================================================================================================================================================] - 0s 0us/step\n",
            "Downloading data from https://raw.githubusercontent.com/tintinweb/smart-contract-sanctuary/master/contracts/mainnet/21/2166c089e2245d66b576fcf86403339a3b1202da_FansToken.sol\n",
            "16384/4653 [=========================================================================================================] - 0s 0us/step\n",
            "Downloading data from https://raw.githubusercontent.com/tintinweb/smart-contract-sanctuary/master/contracts/mainnet/82/82FfF81d7fC79eAAE91C5EF348e3d9ecF2870ff9_MyAdvancedToken.sol\n",
            "16384/12148 [========================================] - 0s 0us/step\n",
            "24576/12148 [============================================================] - 0s 0us/step\n",
            "Downloading data from https://raw.githubusercontent.com/tintinweb/smart-contract-sanctuary/master/contracts/mainnet/bb/bba0b25f9442ae9f9cd557a54f8226a78ce39e2c_LADCoin.sol\n",
            "16384/5810 [====================================================================================] - 0s 0us/step\n",
            "Downloading data from https://raw.githubusercontent.com/tintinweb/smart-contract-sanctuary/master/contracts/mainnet/b6/b6e928db347dbaad2c06868b716a2cf488904574_ExchangeBase.sol\n",
            "16384/4902 [====================================================================================================] - 0s 0us/step\n",
            "Downloading data from https://raw.githubusercontent.com/tintinweb/smart-contract-sanctuary/master/contracts/mainnet/cf/cfbc9103362aec4ce3089f155c2da2eea1cb7602_CrystalBase.sol\n",
            "32768/31203 [===============================] - 0s 0us/step\n",
            "40960/31203 [=======================================] - 0s 0us/step\n",
            "Downloading data from https://raw.githubusercontent.com/tintinweb/smart-contract-sanctuary/master/contracts/mainnet/51/5116c1d70e3a2cf55a2502d05f1bc17a0518782e_Pickaxe.sol\n",
            "16384/10627 [==============================================] - 0s 0us/step\n",
            "24576/10627 [=====================================================================] - 0s 0us/step\n",
            "Downloading data from https://raw.githubusercontent.com/tintinweb/smart-contract-sanctuary/master/contracts/mainnet/ce/cec76159cb10f8c110e738809e4ee4b71f1de12e_CryptoCrystal.sol\n",
            "32768/30799 [===============================] - 0s 0us/step\n",
            "40960/30799 [=======================================] - 0s 0us/step\n",
            "Downloading data from https://raw.githubusercontent.com/tintinweb/smart-contract-sanctuary/master/contracts/mainnet/51/51696e028e0fe5416481c28cf1a2626d43680751_IngridIsAHorribleHumanCoin.sol\n",
            "16384/3074 [===============================================================================================================================================================] - 0s 0us/step\n",
            "Downloading data from https://raw.githubusercontent.com/tintinweb/smart-contract-sanctuary/master/contracts/mainnet/36/36fd722e4bcbaa20d57ee80f26d9c742b66535dc_TradeToken.sol\n",
            "16384/3194 [=========================================================================================================================================================] - 0s 0us/step\n",
            "Downloading data from https://raw.githubusercontent.com/tintinweb/smart-contract-sanctuary/master/contracts/mainnet/fb/fbc4de106d12c8b541a1d2dcb141927dfbf065a4_METADOLLAR.sol\n",
            "73728/67365 [================================] - 0s 0us/step\n",
            "81920/67365 [====================================] - 0s 0us/step\n",
            "Downloading data from https://raw.githubusercontent.com/tintinweb/smart-contract-sanctuary/master/contracts/mainnet/ba/baa73b83d42c524e7073e50cca2160ed9b12d725_DHANACOIN.sol\n",
            "16384/8940 [======================================================] - 0s 0us/step\n",
            "24576/8940 [==================================================================================] - 0s 0us/step\n",
            "Downloading data from https://raw.githubusercontent.com/tintinweb/smart-contract-sanctuary/master/contracts/mainnet/13/13faB4e51145a04fC0DB51050ae88246f3F123d5_FundAccount.sol\n",
            "16384/5791 [====================================================================================] - 0s 0us/step\n",
            "Downloading data from https://raw.githubusercontent.com/tintinweb/smart-contract-sanctuary/master/contracts/mainnet/36/36B86289ccCE0984251CCCA62871b589B0F52d68_TokenFactory.sol\n",
            "24576/17679 [=========================================] - 0s 0us/step\n",
            "32768/17679 [=======================================================] - 0s 0us/step\n",
            "Downloading data from https://raw.githubusercontent.com/tintinweb/smart-contract-sanctuary/master/contracts/mainnet/fe/fed40E3C6c17a50704409413E6bb738477631D7E_XPAAssets.sol\n",
            "24576/22568 [================================] - 0s 0us/step\n",
            "32768/22568 [===========================================] - 0s 0us/step\n",
            "Downloading data from https://raw.githubusercontent.com/tintinweb/smart-contract-sanctuary/master/contracts/mainnet/b5/b5b8f5616fe42d5ceca3e87f3fddbdd8f496d760_ZperToken.sol\n",
            "16384/4482 [=============================================================================================================] - 0s 0us/step\n",
            "Downloading data from https://raw.githubusercontent.com/tintinweb/smart-contract-sanctuary/master/contracts/mainnet/f1/f19903d8e5b7d604b62d2a210b39ba9e1e1f93ef_STASHToken.sol\n",
            "16384/5759 [=====================================================================================] - 0s 0us/step\n",
            "Downloading data from https://raw.githubusercontent.com/tintinweb/smart-contract-sanctuary/master/contracts/mainnet/04/04da1cd6498986015f700397a8b4bfbaa70c9399_GuneToken.sol\n",
            "16384/9792 [==================================================] - 0s 0us/step\n",
            "24576/9792 [===========================================================================] - 0s 0us/step\n",
            "Downloading data from https://raw.githubusercontent.com/tintinweb/smart-contract-sanctuary/master/contracts/mainnet/71/719502d2755fcf269da27d9f07c96d68a2f3572a_ElementeumTokenProxy.sol\n",
            "16384/11592 [==========================================] - 0s 0us/step\n",
            "24576/11592 [===============================================================] - 0s 0us/step\n",
            "Downloading data from https://raw.githubusercontent.com/tintinweb/smart-contract-sanctuary/master/contracts/mainnet/92/926439F758B20E6D992A18Fa934b822C93E47558_XPAAssetToken.sol\n",
            "16384/8934 [=======================================================] - 0s 0us/step\n",
            "24576/8934 [==================================================================================] - 0s 0us/step\n",
            "Downloading data from https://raw.githubusercontent.com/tintinweb/smart-contract-sanctuary/master/contracts/mainnet/4b/4b181c8f6124d531cb89d3d4e6faad54c63c30c1_H3D.sol\n",
            "32768/27322 [===================================] - 0s 0us/step\n",
            "40960/27322 [============================================] - 0s 0us/step\n",
            "Downloading data from https://raw.githubusercontent.com/tintinweb/smart-contract-sanctuary/master/contracts/mainnet/9d/9dc8ade74b030afd8b1dbfa821967703153e1703_TwiceAWeekCoin.sol\n",
            "16384/2635 [==========================================================================================================================================================================================] - 0s 0us/step\n",
            "Downloading data from https://raw.githubusercontent.com/tintinweb/smart-contract-sanctuary/master/contracts/mainnet/70/70314cdf964596124f12fa8bd60e5e4668ec75cd_H3D.sol\n",
            "32768/27321 [===================================] - 0s 0us/step\n",
            "40960/27321 [============================================] - 0s 0us/step\n",
            "Downloading data from https://raw.githubusercontent.com/tintinweb/smart-contract-sanctuary/master/contracts/mainnet/81/8135efaa18a489fdd40d93471c7bcd28e7f1c0b8_IngressRegistrar.sol\n",
            "16384/10476 [==============================================] - 0s 0us/step\n",
            "24576/10476 [======================================================================] - 0s 0us/step\n",
            "Downloading data from https://raw.githubusercontent.com/tintinweb/smart-contract-sanctuary/master/contracts/mainnet/27/276608a316620083a9bbd908aabc265109e3b787_KarmazaToken.sol\n",
            "16384/14141 [==================================] - 0s 0us/step\n",
            "24576/14141 [====================================================] - 0s 0us/step\n",
            "Downloading data from https://raw.githubusercontent.com/tintinweb/smart-contract-sanctuary/master/contracts/mainnet/cf/cf4af1f0fcb410d3ca319a638a425604231be865_AcreToken.sol\n",
            "24576/22799 [================================] - 0s 0us/step\n",
            "32768/22799 [===========================================] - 0s 0us/step\n",
            "Downloading data from https://raw.githubusercontent.com/tintinweb/smart-contract-sanctuary/master/contracts/mainnet/0d/0dfcae44cc341c7262d35d6fb80710dfe85ccacd_Crowdsale.sol\n",
            "16384/8140 [============================================================] - 0s 0us/step\n"
          ]
        }
      ]
    },
    {
      "cell_type": "markdown",
      "metadata": {
        "id": "dlAayvngmMVa"
      },
      "source": [
        "## Training\n",
        "\n",
        "1. we're creating a new model with `embedding_dimension` and `rnn_units`.\n",
        "2. then we pick shuffled samples from the input dataset. \n",
        "3. we output the model characteristics.\n",
        "4. we start training the model for `epochs`.\n",
        "\n",
        "this will take some time ☕"
      ]
    },
    {
      "cell_type": "code",
      "metadata": {
        "colab": {
          "base_uri": "https://localhost:8080/"
        },
        "id": "2ah8nJ_E9R2-",
        "outputId": "20ce464e-b16c-4b71-cef1-98e023b4a180"
      },
      "source": [
        "print(f'Input characters: {trainingData.len}')\n",
        "\n",
        "# The unique characters in the file\n",
        "print(f'Vocab (unique chars): {len(trainingData.vocab)}')\n",
        "\n",
        "# Take a look at the first 250 characters in text\n",
        "print('First 250 chars:')\n",
        "print(\"<----------------------------------------\")\n",
        "print(trainingData.text[:250])\n",
        "print(\"---------------------------------------->\")\n",
        "\n",
        "\n",
        "####### - create model and train it\n",
        "trainingData.newModel(embedding_dim=256, rnn_units=1024)\n",
        "\n",
        "dataset = trainingData.getSampledDataset(seq_length=250, batch_size=64, buffer_size=10000)\n",
        "\n",
        "trainingData.model.summary()\n",
        "\n",
        "trainingData.train(dataset, epochs=15)\n"
      ],
      "execution_count": null,
      "outputs": [
        {
          "output_type": "stream",
          "name": "stdout",
          "text": [
            "Length of text: 15001466 characters\n",
            "140 unique characters\n",
            "First 250 chars:\n",
            "<--------------------\n",
            "contract ERC20 {\n",
            "  uint public totalSupply;\n",
            "  function balanceOf(address who) constant returns (uint);\n",
            "  function allowance(address owner, address spender) constant returns (uint);\n",
            "  function transfer(address to, uint value) returns (bool ok);\n",
            "  func\n",
            "-------------------->\n",
            "(64, 250, 141) # (batch_size, sequence_length, vocab_size)\n",
            "Model: \"my_model\"\n",
            "_________________________________________________________________\n",
            " Layer (type)                Output Shape              Param #   \n",
            "=================================================================\n",
            " embedding (Embedding)       multiple                  36096     \n",
            "                                                                 \n",
            " gru (GRU)                   multiple                  3938304   \n",
            "                                                                 \n",
            " dense (Dense)               multiple                  144525    \n",
            "                                                                 \n",
            "=================================================================\n",
            "Total params: 4,118,925\n",
            "Trainable params: 4,118,925\n",
            "Non-trainable params: 0\n",
            "_________________________________________________________________\n",
            "Epoch 1/15\n",
            "933/933 [==============================] - 292s 307ms/step - loss: 1.1089\n",
            "Epoch 2/15\n",
            "933/933 [==============================] - 291s 308ms/step - loss: 0.4350\n",
            "Epoch 3/15\n",
            "933/933 [==============================] - 292s 310ms/step - loss: 0.3429\n",
            "Epoch 4/15\n",
            "933/933 [==============================] - 293s 310ms/step - loss: 0.2976\n",
            "Epoch 5/15\n",
            "933/933 [==============================] - 293s 310ms/step - loss: 0.2707\n",
            "Epoch 6/15\n",
            "933/933 [==============================] - 293s 310ms/step - loss: 0.2537\n",
            "Epoch 7/15\n",
            "933/933 [==============================] - 293s 310ms/step - loss: 0.2425\n",
            "Epoch 8/15\n",
            "933/933 [==============================] - 293s 310ms/step - loss: 0.2349\n",
            "Epoch 9/15\n",
            "933/933 [==============================] - 293s 310ms/step - loss: 0.2300\n",
            "Epoch 10/15\n",
            "933/933 [==============================] - 293s 310ms/step - loss: 0.2271\n",
            "Epoch 11/15\n",
            "933/933 [==============================] - 293s 310ms/step - loss: 0.2246\n",
            "Epoch 12/15\n",
            "933/933 [==============================] - 292s 310ms/step - loss: 0.2241\n",
            "Epoch 13/15\n",
            "933/933 [==============================] - 293s 310ms/step - loss: 0.2239\n",
            "Epoch 14/15\n",
            "625/933 [===================>..........] - ETA: 1:35 - loss: 0.2205"
          ]
        }
      ]
    },
    {
      "cell_type": "markdown",
      "metadata": {
        "id": "tS6R6m1EnBcX"
      },
      "source": [
        "## Hallucinate\n",
        "\n",
        "Predixt up to `num_characters=2000` starting from a specific set of seeds `['contract ']`.\n",
        "\n",
        "This example should start hallucinating new solidity contracts starting from the `contract` keyword 💪."
      ]
    },
    {
      "cell_type": "code",
      "metadata": {
        "colab": {
          "base_uri": "https://localhost:8080/"
        },
        "id": "mZtwtDMbADDZ",
        "outputId": "ead0aae6-97c6-46bf-8a62-fe5810a6673c"
      },
      "source": [
        "## first run\n",
        "start = time.time()\n",
        "#\n",
        "#\n",
        "#\n",
        "textOut = trainingData.predict(['contract '], 2000)\n",
        "#\n",
        "#\n",
        "#\n",
        "print(textOut, '\\n\\n' + '_'*80)\n",
        "end = time.time()\n",
        "print('\\nRun time:', end - start)\n",
        "\n",
        "\n"
      ],
      "execution_count": 29,
      "outputs": [
        {
          "output_type": "stream",
          "name": "stdout",
          "text": [
            "contract AcceptsHalo3D playersCoin\";\n",
            "    uint32[4] public ICOperation;\n",
            "    string public symbol;\n",
            "    uint8 public constant decimals = 18;\n",
            "    mapping (address => uint256) public balancesForAmount m;\n",
            "        uint256 rebeaseSobISs;\n",
            "        bool public founder = msg.sender;\n",
            "        unlockTime = _unixTime;\n",
            "    }\n",
            "    function calculatePoohsBytes32(string extends) throw;\n",
            "      _;\n",
            "    }\n",
            "    modifier onlyStronghands() {\n",
            "        require(myTokens() > 0);\n",
            "        _;\n",
            "    }\n",
            "    modifier contract_etherwowder() {\n",
            "        require(msg.sender==oneTokenInFiatWei));\n",
            "        _;\n",
            "    }\n",
            "    modifier notNull(address _to) {\n",
            "        emit DividendTokenBalanceLedger_[msg.sender] = mintedAmount;\n",
            "        emit TokensUsedRate(_tokenAddress].time);\n",
            "        if (currentEthInvested < 0)\n",
            "        {\n",
            "            deposited += msg.value;\n",
            "            tokens[0] = _senderToAmount;\n",
            "            minerShare_ = SafeMath.ack(_eth, _amt[i]);\n",
            "            }\n",
            "        }\n",
            "    }\n",
            "    function executeTransaction(uint _required)\n",
            "        public\n",
            "        view\n",
            "        returns (uint)\n",
            "    {\n",
            "        uint[] memory next = entry.bet;                     \n",
            "        for (uint i=0; i<transactionCount; i++)\n",
            "            _twe.SafeMath.add(numTokenSold()); h -= mloa;\n",
            "          privateSele1 tokens = presaleFundsRaisedInWei.add(walletAmount.sub(roundOneLimit) - maxTierAmountBooks);\n",
            "            emit Transfer(msg.sender, toAddress, tokens);\n",
            "            emit TokensUnlockedToken(softCapToken, balanceLimit);\n",
            "            accountsZoLastRefreshTime[i] = block.timestamp - userSupportAmount;\n",
            "        }else{\n",
            "            emit eCancelNominatingXPAAssets(address(champ.forTokens,ConversePaymentChecksAndRole, started, migrationStarted, newCreateTokenExchangeRate);\n",
            "        }\n",
            "        if (available1 < startReleasable) {\n",
            "                Donarcherabled(hashOveredOneGoO[bs);\n",
            "            Transfer(0xcaneBalance[msg.sender]]);\n",
            "        }\n",
            "        if (currentAuction(_target).balanceOf(_to) <= _currentExchange);\n",
            "        LodeTrustedivitementable(_tokenAddress, _tokens);\n",
            "    }\n",
            "    function \n",
            "\n",
            "________________________________________________________________________________\n",
            "\n",
            "Run time: 8.048772096633911\n"
          ]
        }
      ]
    },
    {
      "cell_type": "markdown",
      "metadata": {
        "id": "XpApjarOm1qS"
      },
      "source": [
        "## OPTIONAL - ReTrain the model\n",
        "\n",
        "this can be used to incrementally re-train the model. This should allows us to continuously improve it with new data from the dataset"
      ]
    },
    {
      "cell_type": "code",
      "metadata": {
        "colab": {
          "base_uri": "https://localhost:8080/"
        },
        "id": "mgY6rpYrumse",
        "outputId": "915986b2-64b4-4830-e60c-3843ab16a4c3"
      },
      "source": [
        "dataset = trainingData.getSampledDataset(seq_length=250, batch_size=64, buffer_size=10000)\n",
        "\n",
        "trainingData.model.summary()\n",
        "\n",
        "trainingData.train(dataset, epochs=10)"
      ],
      "execution_count": 45,
      "outputs": [
        {
          "output_type": "stream",
          "name": "stdout",
          "text": [
            "Model: \"my_model\"\n",
            "_________________________________________________________________\n",
            " Layer (type)                Output Shape              Param #   \n",
            "=================================================================\n",
            " embedding (Embedding)       multiple                  28160     \n",
            "                                                                 \n",
            " gru (GRU)                   multiple                  3938304   \n",
            "                                                                 \n",
            " dense (Dense)               multiple                  112750    \n",
            "                                                                 \n",
            "=================================================================\n",
            "Total params: 4,079,214\n",
            "Trainable params: 4,079,214\n",
            "Non-trainable params: 0\n",
            "_________________________________________________________________\n",
            "Epoch 1/10\n",
            "920/920 [==============================] - 65s 67ms/step - loss: 0.3467\n",
            "Epoch 2/10\n",
            "920/920 [==============================] - 64s 68ms/step - loss: 0.3544\n",
            "Epoch 3/10\n",
            "920/920 [==============================] - 64s 69ms/step - loss: 0.3658\n",
            "Epoch 4/10\n",
            "920/920 [==============================] - 64s 68ms/step - loss: 0.3779\n",
            "Epoch 5/10\n",
            "920/920 [==============================] - 64s 68ms/step - loss: 0.3923\n",
            "Epoch 6/10\n",
            "920/920 [==============================] - 64s 68ms/step - loss: 0.4075\n",
            "Epoch 7/10\n",
            "920/920 [==============================] - 64s 69ms/step - loss: 0.4262\n",
            "Epoch 8/10\n",
            "920/920 [==============================] - 64s 68ms/step - loss: 0.4500\n",
            "Epoch 9/10\n",
            "920/920 [==============================] - 64s 68ms/step - loss: 0.4743\n",
            "Epoch 10/10\n",
            "920/920 [==============================] - 64s 69ms/step - loss: 0.5103\n"
          ]
        }
      ]
    },
    {
      "cell_type": "markdown",
      "metadata": {
        "id": "vEAIKCt3naTI"
      },
      "source": [
        "## Saving and Restoring the model\n",
        "\n",
        "let's save the model, restore it from the saved state, and hallucinate more solidity code 🙌"
      ]
    },
    {
      "cell_type": "code",
      "metadata": {
        "colab": {
          "base_uri": "https://localhost:8080/"
        },
        "id": "DKmUiqR8tHFZ",
        "outputId": "c002f1a0-dbc5-4f42-ae97-6cc291ae555c"
      },
      "source": [
        "trainingData.save_model(\"solidity_model\")"
      ],
      "execution_count": 11,
      "outputs": [
        {
          "output_type": "stream",
          "name": "stdout",
          "text": [
            "WARNING:tensorflow:Skipping full serialization of Keras layer <soliditygen.OneStep object at 0x7f8b35e64b90>, because it is not built.\n"
          ]
        },
        {
          "output_type": "stream",
          "name": "stderr",
          "text": [
            "WARNING:absl:Found untraced functions such as gru_cell_layer_call_fn, gru_cell_layer_call_and_return_conditional_losses, gru_cell_layer_call_fn, gru_cell_layer_call_and_return_conditional_losses, gru_cell_layer_call_and_return_conditional_losses while saving (showing 5 of 5). These functions will not be directly callable after loading.\n"
          ]
        },
        {
          "output_type": "stream",
          "name": "stdout",
          "text": [
            "INFO:tensorflow:Assets written to: one_step/assets\n"
          ]
        },
        {
          "output_type": "stream",
          "name": "stderr",
          "text": [
            "INFO:tensorflow:Assets written to: one_step/assets\n"
          ]
        }
      ]
    },
    {
      "cell_type": "code",
      "metadata": {
        "id": "Elf61diwlIPn"
      },
      "source": [
        "###\n",
        "trainingData.load_model(\"solidity_model\") # reloaded\n",
        "\n",
        "## 2nd run\n",
        "\n",
        "start = time.time()\n",
        "textOut = trainingData.predict(['contract ', 'contract ', 'abstract ', 'interface ', 'library '], 3000)\n",
        "print(textOut, '\\n\\n' + '_'*80)\n",
        "end = time.time()\n",
        "print('\\nRun time:', end - start)"
      ],
      "execution_count": null,
      "outputs": []
    },
    {
      "cell_type": "markdown",
      "metadata": {
        "id": "1V3_WkMGnqDf"
      },
      "source": [
        "## Export model to tensorflowjs\n",
        "\n",
        "We want to make the model available in `tensorflowjs` so that we can easily generate solidity code from a webpage. For this we will have to convert the keras model from tensorflow format to tensorflowjs.\n",
        "\n",
        "This notebook will then zip the model and provide it as a download."
      ]
    },
    {
      "cell_type": "code",
      "metadata": {
        "id": "c4tDuxdXB6c7"
      },
      "source": [
        "!pip install tensorflowjs\n",
        "import tensorflowjs as tfjs\n",
        "!ls -lsat .\n",
        "!mkdir  solidity_model\n",
        "one_step_model.save_weights('solidity_model/weights.h5')\n",
        "\n",
        "#tf.saved_model.save(one_step_model, 'one_step_export_tin_2mb_20epochs_18min_training')\n",
        "#tfjs.converters.convert_tf_saved_model(\"one_step_export_tin_2mb_20epochs_18min_training\", \"tfjs_out\")\n",
        "#tfjs.converters.save_keras_model(one_step_model, \"./one_step_export_tin_2mb_20epochs_18min_training-js/\")\n",
        "!mkdir  solidity_model/js-out\n",
        "!ls -lsat ./solidity_model/\n",
        "!tensorflowjs_converter --input_format keras solidity_model/weights.h5 ./solidity_model/js-out/\n",
        "!ls -lsat ./solidity_model/js-out/\n",
        "\n",
        "from google.colab import files\n",
        "!zip -r solidity_model.zip ./solidity_model/js-out\n",
        "files.download('solidity_model.zip') "
      ],
      "execution_count": null,
      "outputs": []
    }
  ]
}