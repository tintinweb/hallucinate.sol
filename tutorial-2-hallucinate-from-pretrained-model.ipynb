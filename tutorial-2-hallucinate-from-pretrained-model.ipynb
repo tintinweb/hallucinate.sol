{
  "nbformat": 4,
  "nbformat_minor": 0,
  "metadata": {
    "colab": {
      "name": "predict-existing.ipynb",
      "provenance": []
    },
    "kernelspec": {
      "name": "python3",
      "display_name": "Python 3"
    },
    "language_info": {
      "name": "python"
    },
    "accelerator": "GPU"
  },
  "cells": [
    {
      "cell_type": "markdown",
      "metadata": {
        "id": "Vycsyjqdsk6D"
      },
      "source": [
        "[<img width=\"200\" alt=\"get in touch with Consensys Diligence\" src=\"https://user-images.githubusercontent.com/2865694/56826101-91dcf380-685b-11e9-937c-af49c2510aa0.png\">](https://diligence.consensys.net)<br/>\n",
        "<sup>\n",
        "[[  🌐  ](https://diligence.consensys.net)  [  📩  ](https://github.com/ConsenSys/vscode-solidity-doppelganger/blob/master/mailto:diligence@consensys.net)  [  🔥  ](https://consensys.github.io/diligence/)]\n",
        "</sup><br/><br/>\n",
        "\n",
        "\n",
        "# Hallucinate.sol - from pre-trained model"
      ]
    },
    {
      "cell_type": "markdown",
      "metadata": {
        "id": "qccfvi1fkbNK"
      },
      "source": [
        "## Initialization magic\n",
        "\n",
        "We're training on google collab because it is much faster than on a normal pc. For this, we'll want to make the modules that download the source-samples and thrain the RNN available on google drive.\n",
        "\n",
        "1. copy the files from https://github.com/tintinweb/hallucinate.sol to your personal google drive into `/MyDrive/collab/solidity-gen`\n",
        "2. run the next two steps and provide your authenticator token \n"
      ]
    },
    {
      "cell_type": "code",
      "metadata": {
        "id": "OpWgMJEZ9wz7"
      },
      "source": [
        "%tensorflow_version 2.x"
      ],
      "execution_count": 1,
      "outputs": []
    },
    {
      "cell_type": "code",
      "metadata": {
        "id": "H7ZRJKel9LaW",
        "colab": {
          "base_uri": "https://localhost:8080/"
        },
        "outputId": "5abe6c2f-adca-4101-e836-034ad4dd15c6"
      },
      "source": [
        "import os\n",
        "from google.colab import drive\n",
        "drive.mount('/content/drive', force_remount=True)\n",
        "os.chdir('/content/drive/MyDrive/collab/solidity-gen')\n",
        "!ls -lsat '/content/drive/MyDrive/collab/solidity-gen'\n",
        "### ipynb reload magic\n",
        "from soliditygen import *\n",
        "import soliditygen\n",
        "import importlib\n",
        "importlib.reload(soliditygen)"
      ],
      "execution_count": 2,
      "outputs": [
        {
          "output_type": "stream",
          "name": "stdout",
          "text": [
            "Mounted at /content/drive\n",
            "total 93\n",
            " 4 drwx------ 2 root root  4096 Nov 12 10:33 solidity_model_text\n",
            "10 -rw------- 1 root root  9722 Nov 12 10:32 tutorial-2-hallucinate-from-pretrained-model.ipynb\n",
            " 4 drwx------ 2 root root  4096 Nov 12 10:29 __pycache__\n",
            " 9 -rw------- 1 root root  8299 Nov 12 10:27 soliditygen.py\n",
            "56 -rw------- 1 root root 57039 Nov 12 10:14 tutorial-1-train_and_predict.ipynb\n",
            " 1 -rw------- 1 root root   102 Nov 12 09:50 README.md\n",
            " 2 -rw------- 1 root root  1610 Nov 12 09:48 .gitignore\n",
            " 4 drwx------ 2 root root  4096 Nov 12 09:24 .git\n",
            " 4 drwx------ 2 root root  4096 Nov 10 10:40 training_checkpoints\n"
          ]
        },
        {
          "output_type": "execute_result",
          "data": {
            "text/plain": [
              "<module 'soliditygen' from '/content/drive/MyDrive/collab/solidity-gen/soliditygen.py'>"
            ]
          },
          "metadata": {},
          "execution_count": 2
        }
      ]
    },
    {
      "cell_type": "markdown",
      "metadata": {
        "id": "vEAIKCt3naTI"
      },
      "source": [
        "## Load an existing model\n",
        "\n",
        "Restore the saved state from local folder `solidity_model`, then, hallucinate more solidity code 🙌"
      ]
    },
    {
      "cell_type": "code",
      "metadata": {
        "id": "Elf61diwlIPn"
      },
      "source": [
        "### creat dummy trainingData object and load existing state from the local dir\n",
        "trainingData = TrainingData()\n",
        "trainingData.load_model(\"solidity_model_text\") # location of model\n"
      ],
      "execution_count": 3,
      "outputs": []
    },
    {
      "cell_type": "markdown",
      "metadata": {
        "id": "dfzpTwkTsUk-"
      },
      "source": [
        "## Predict \n",
        "\n",
        "Hallucinate more solidity 🙌"
      ]
    },
    {
      "cell_type": "code",
      "metadata": {
        "colab": {
          "base_uri": "https://localhost:8080/"
        },
        "id": "NzWXr0nXsTuI",
        "outputId": "b4ed9e9c-59cc-4251-8282-c51574173564"
      },
      "source": [
        "start = time.time()\n",
        "textOut = trainingData.predict(['contract '], 3000)\n",
        "print(textOut, '\\n\\n' + '_'*80)\n",
        "end = time.time()\n",
        "print('\\nRun time:', end - start)"
      ],
      "execution_count": 4,
      "outputs": [
        {
          "output_type": "stream",
          "name": "stdout",
          "text": [
            "contract etherAddress) {\n",
            "        if (!_isClean()) {\n",
            "            revert();\n",
            "        }\n",
            "        owner.transfer(oddressOfTokenUsedAsReward);\n",
            "    }\n",
            "}\n",
            "\n",
            "library SafeMath {\n",
            "      function sub(uint a, uint b) internal returns (uint) {\n",
            "        assert(b <= a);\n",
            "        return a - b;\n",
            "    }\n",
            "    function safeSub(uint a, uint b) internal returns (uint) {\n",
            "        assert(b <= a);\n",
            "        return a - b;\n",
            "    }\n",
            "    function safeSub(uint a, uint b) internal returns (uint) {\n",
            "        assert(b <= a);\n",
            "        return a - b;\n",
            "    }\n",
            "    function safeMilestoneIndex = y ether;\n",
            "    address public owner;\n",
            "    address public _value = newOwner;\n",
            "    emit OwnershipTransferred(owner, newOwner);\n",
            "    owner = newOwner;\n",
            "  }\n",
            "}\n",
            "contract SafeMath {\n",
            "  function safeMul(uint a, uint b) internal returns (uint) {\n",
            "    uint c = a * b;\n",
            "    assert(a == 0 || c / a == b);\n",
            "    return c;\n",
            "  }\n",
            "  function safeDiv(uint a, uint b) internal returns (uint) {\n",
            "    assert(b > 0);\n",
            "    uint c = a / b;\n",
            "    assert(a == b * c + a % b);\n",
            "    return c;\n",
            "  }\n",
            "  function minut(uint a, uint b) internal returns (uint) {\n",
            "    assert(b <= a);\n",
            "    return a - b;\n",
            "  }\n",
            "  function safeAdd(uint a, uint b) internal pure returns (uint c) {\n",
            "    c = a + b;\n",
            "    assert(c>=a && c>=b);\n",
            "    return c;\n",
            "  }\n",
            "  function max64(uint a, uint b) internal constant returns (uint) {\n",
            "    uint c = a * b;\n",
            "    assert(a == 0 || c / a == b);\n",
            "    return c;\n",
            "  }\n",
            "  function safeSub(uint a, uint b) internal returns (uint) {\n",
            "    assert(b <= a);\n",
            "    return a - b;\n",
            "  }\n",
            "  function safeAdd(uint256 a, uint256 b) internal pure returns (uint256) {\n",
            "    uint256 c = a + b;\n",
            "    assert(c>=a);\n",
            "    return c;\n",
            "  }\n",
            "}\n",
            "contract ERC20Basic {\n",
            "  uint256 public totalSupply;\n",
            "  function balanceOf(address who) public constant returns (uint256);\n",
            "  function transfer(address to, uint256 value) public returns (bool);\n",
            "  event Transfer(address indexed from, address indexed to, uint256 value);\n",
            "}\n",
            "contract Ownable {\n",
            "  address public owner;\n",
            "  event OwnershipTransferred(address indexed previousOwner, address indexed newOwner);\n",
            "  constructor() public {\n",
            "    owner = msg.sender;\n",
            "  }\n",
            "  modifier onlyOwner() {\n",
            "    require(msg.sender == owner);\n",
            "    _;\n",
            "  }\n",
            "  function transferOwnership(address newOwner) onlyOwner public {\n",
            "    require(newOwner != address(0));\n",
            "    emit OwnershipTransferred(owner, newOwner);\n",
            "    owner = newOwner;\n",
            "  }\n",
            "}\n",
            "contract PausableToken is CapiTO{\n",
            "    address public owner_DED\n",
            ";\n",
            "    uint public reservedTokensDestinationsLen = 0;\n",
            "    uint public totalPeriod;\n",
            "    uint public reservedTokensDestinationsLen;\n",
            "    uint inTokens;\n",
            "    uint inPercentageDecimals;\n",
            "    bool isReserver;\n",
            "    bool inState(State stats) public onlyOwner {\n",
            "    assert(!finalized);\n",
            "    assert(isUpdatable);\n",
            "    assert(now <= time);\n",
            "    }\n",
            "\t   temescy+=SerputUser.game.player2, uint32(bits), contents.length - 1]);\n",
            "\t   _;\n",
            "\t}\n",
            "\tmodifier notDonMint(address recipient) {return mintInternalBonus;\n",
            "  }\n",
            "  function calculateTokens(uint _incomingEthereum, address _user, address _token) canTransfer(_tokenId) onlyOwner public {\n",
            "   token = _token;\n",
            "  CrowdsaleExt is C \n",
            "\n",
            "________________________________________________________________________________\n",
            "\n",
            "Run time: 12.62655234336853\n"
          ]
        }
      ]
    }
  ]
}