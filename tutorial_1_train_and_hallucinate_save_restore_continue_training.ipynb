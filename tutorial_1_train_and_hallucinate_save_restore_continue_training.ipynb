{
  "nbformat": 4,
  "nbformat_minor": 0,
  "metadata": {
    "colab": {
      "name": "tutorial_1_train_and_hallucinate_save_restore_continue_training.ipynb",
      "provenance": []
    },
    "kernelspec": {
      "name": "python3",
      "display_name": "Python 3"
    },
    "language_info": {
      "name": "python"
    },
    "accelerator": "GPU"
  },
  "cells": [
    {
      "cell_type": "markdown",
      "metadata": {
        "id": "Uy_kz5het5wa"
      },
      "source": [
        "[<img width=\"200\" alt=\"get in touch with Consensys Diligence\" src=\"https://user-images.githubusercontent.com/2865694/56826101-91dcf380-685b-11e9-937c-af49c2510aa0.png\">](https://diligence.consensys.net)<br/>\n",
        "<sup>\n",
        "[[  🌐  ](https://diligence.consensys.net)  [  📩  ](https://github.com/ConsenSys/vscode-solidity-doppelganger/blob/master/mailto:diligence@consensys.net)  [  🔥  ](https://consensys.github.io/diligence/)]\n",
        "</sup><br/><br/>\n",
        "\n",
        "\n",
        "# Hallucinate.sol - Train & Predict\n",
        "\n",
        "train, predict, save state, restore state from disk, re-train, export to tensorflowjs"
      ]
    },
    {
      "cell_type": "markdown",
      "metadata": {
        "id": "qccfvi1fkbNK"
      },
      "source": [
        "## Setup\n",
        "\n",
        "We need to make our `soliditygen` module available to google collab. There's two ways to do this:\n",
        "\n",
        "* (a) via google drive\n",
        "  1. copy the files from https://github.com/tintinweb/hallucinate.sol to your personal google drive into `/MyDrive/collab/solidity-gen`\n",
        "  2. run the next two steps and provide your authenticator token \n",
        "* (b) by downloading the repo\n",
        "\n"
      ]
    },
    {
      "cell_type": "code",
      "metadata": {
        "id": "OpWgMJEZ9wz7"
      },
      "source": [
        "%tensorflow_version 2.x"
      ],
      "execution_count": 1,
      "outputs": []
    },
    {
      "cell_type": "code",
      "metadata": {
        "id": "H7ZRJKel9LaW",
        "colab": {
          "base_uri": "https://localhost:8080/"
        },
        "outputId": "dd3eb056-e45f-4606-f29d-87401e511e7b"
      },
      "source": [
        "import os\n",
        "\"\"\"\n",
        "# (1) mount the google drive in order for the code to find the soliditygen module\n",
        "\n",
        "from google.colab import drive\n",
        "drive.mount('/content/drive', force_remount=True)\n",
        "os.chdir('/content/drive/MyDrive/collab/solidity-gen')\n",
        "\n",
        "\"\"\"\n",
        "# (2) checkout the repo instead\n",
        "\n",
        "!git clone https://github.com/tintinweb/hallucinate.sol.git\n",
        "os.chdir(\"hallucinate.sol\")\n",
        "\n",
        "\n",
        "!ls -lsat .\n",
        "### import everything because we're lazy\n",
        "from soliditygen import *"
      ],
      "execution_count": 2,
      "outputs": [
        {
          "output_type": "stream",
          "name": "stdout",
          "text": [
            "Cloning into 'hallucinate.sol'...\n",
            "remote: Enumerating objects: 55, done.\u001b[K\n",
            "remote: Counting objects: 100% (55/55), done.\u001b[K\n",
            "remote: Compressing objects: 100% (47/47), done.\u001b[K\n",
            "remote: Total 55 (delta 24), reused 27 (delta 8), pack-reused 0\u001b[K\n",
            "Unpacking objects: 100% (55/55), done.\n",
            "total 112\n",
            " 4 drwxr-xr-x 4 root root  4096 Nov 12 12:17 .\n",
            " 4 drwxr-xr-x 8 root root  4096 Nov 12 12:17 .git\n",
            "60 -rw-r--r-- 1 root root 57752 Nov 12 12:17 tutorial_1_train_and_hallucinate_save_restore_continue_training.ipynb\n",
            "12 -rw-r--r-- 1 root root  9837 Nov 12 12:17 tutorial_2_hallucinate_from_pretrained_model.ipynb\n",
            "12 -rw-r--r-- 1 root root  8299 Nov 12 12:17 soliditygen.py\n",
            " 4 drwxr-xr-x 3 root root  4096 Nov 12 12:17 solidity_model_text\n",
            " 4 -rw-r--r-- 1 root root  1610 Nov 12 12:17 .gitignore\n",
            " 8 -rw-r--r-- 1 root root  4736 Nov 12 12:17 README.md\n",
            " 4 drwxr-xr-x 1 root root  4096 Nov 12 12:17 ..\n"
          ]
        }
      ]
    },
    {
      "cell_type": "markdown",
      "metadata": {
        "id": "IpR1Q_kxlh4W"
      },
      "source": [
        "## Download Training Data\n",
        "\n",
        "we'll download up to `maxfiles` or `maxlen` samples from https://github.com/tintinweb/smart-contract-inspector, clean them up, and concatenate everything to one big sample file.\n",
        "\n",
        "Note that we can re-train the model with more samples later."
      ]
    },
    {
      "cell_type": "code",
      "metadata": {
        "colab": {
          "base_uri": "https://localhost:8080/"
        },
        "id": "5jslRxvwDq1_",
        "outputId": "f28608f2-398f-4df1-a24a-8dcc6ab6bf08"
      },
      "source": [
        "# get trainingdata\n",
        "trainingData = SolidityTrainer.get_training_data(maxfiles=3000, maxlen=15_000_000)"
      ],
      "execution_count": null,
      "outputs": [
        {
          "output_type": "stream",
          "name": "stdout",
          "text": [
            "Downloading data from https://github.com/tintinweb/smart-contract-sanctuary/blob/3c4e1fe4672177eea850cda031c5b779f707b2ec/contracts/mainnet/contracts.json?raw=true\n",
            "19431424/19431244 [==============================] - 0s 0us/step\n",
            "19439616/19431244 [==============================] - 0s 0us/step\n",
            "Downloading data from https://raw.githubusercontent.com/tintinweb/smart-contract-sanctuary/master/contracts/mainnet/11/1183F92A5624D68e85FFB9170F16BF0443B4c242_QVT.sol\n",
            "16384/13029 [=====================================] - 0s 0us/step\n",
            "24576/13029 [========================================================] - 0s 0us/step\n",
            "Downloading data from https://raw.githubusercontent.com/tintinweb/smart-contract-sanctuary/master/contracts/mainnet/47/473319898464ca640af692a0534175981ab78aa1_PKTToken.sol\n",
            "16384/6604 [==========================================================================] - 0s 0us/step\n",
            "Downloading data from https://raw.githubusercontent.com/tintinweb/smart-contract-sanctuary/master/contracts/mainnet/da/da8432d2bea887e8901e0223ae39f82fd19d60fc_bet_various.sol\n",
            "16384/4245 [===================================================================================================================] - 0s 0us/step\n",
            "Downloading data from https://raw.githubusercontent.com/tintinweb/smart-contract-sanctuary/master/contracts/mainnet/a6/a6dba1f11ce9091682a443277a4d951bba39c723_PKTToken.sol\n",
            "16384/6672 [=========================================================================] - 0s 0us/step\n",
            "Downloading data from https://raw.githubusercontent.com/tintinweb/smart-contract-sanctuary/master/contracts/mainnet/78/78c9117210fac4709d2f7b7f1ed5609d783a5e8e_PlayCoin.sol\n",
            "16384/5059 [=================================================================================================] - 0s 0us/step\n",
            "Downloading data from https://raw.githubusercontent.com/tintinweb/smart-contract-sanctuary/master/contracts/mainnet/2c/2c68efdd296f8a4f83ee46b12152a66dbe74b686_RefereumPresaleToken.sol\n",
            "24576/20612 [===================================] - 0s 0us/step\n",
            "32768/20612 [===============================================] - 0s 0us/step\n",
            "Downloading data from https://raw.githubusercontent.com/tintinweb/smart-contract-sanctuary/master/contracts/mainnet/4a/4adbfb956bdb58e84a700b62a2bd8b4d5a302b80_OpenGoodsToken.sol\n",
            "24576/20623 [===================================] - 0s 0us/step\n",
            "32768/20623 [===============================================] - 0s 0us/step\n",
            "Downloading data from https://raw.githubusercontent.com/tintinweb/smart-contract-sanctuary/master/contracts/mainnet/c5/c574d5f8f7e79c8a9c1d077be9154131aea84139_Test.sol\n",
            "24576/20613 [===================================] - 0s 0us/step\n",
            "32768/20613 [===============================================] - 0s 0us/step\n",
            "Downloading data from https://raw.githubusercontent.com/tintinweb/smart-contract-sanctuary/master/contracts/mainnet/dd/dd5dc6054aa77f21f6f4cee520320f1ef200991f_MyDice75.sol\n",
            "16384/10033 [================================================] - 0s 0us/step\n",
            "24576/10033 [=========================================================================] - 0s 0us/step\n",
            "Downloading data from https://raw.githubusercontent.com/tintinweb/smart-contract-sanctuary/master/contracts/mainnet/8f/8f81eb4030968e2e13a8a182ef0d07673e48ef6f_MyDice.sol\n",
            "16384/9927 [=================================================] - 0s 0us/step\n",
            "24576/9927 [==========================================================================] - 0s 0us/step\n",
            "Downloading data from https://raw.githubusercontent.com/tintinweb/smart-contract-sanctuary/master/contracts/mainnet/15/151ade60b9e39eca0dbfe1cd84c8881555925b0a_ARBI.sol\n",
            "16384/6510 [===========================================================================] - 0s 0us/step\n",
            "Downloading data from https://raw.githubusercontent.com/tintinweb/smart-contract-sanctuary/master/contracts/mainnet/de/de39bcc574d7826f5ed64d045425571564dfea9e_RipioFUND.sol\n",
            "16384/5439 [==========================================================================================] - 0s 0us/step\n",
            "Downloading data from https://raw.githubusercontent.com/tintinweb/smart-contract-sanctuary/master/contracts/mainnet/b8/b8d3d64d55b3d0d7a74f8bbd2d792d843c3337be_ProvidencePresale.sol\n",
            "16384/3738 [===================================================================================================================================] - 0s 0us/step\n",
            "Downloading data from https://raw.githubusercontent.com/tintinweb/smart-contract-sanctuary/master/contracts/mainnet/8d/8d90e51b67a7267672f598ae619927deee257911_MithrilValkyrie.sol\n",
            "16384/4152 [======================================================================================================================] - 0s 0us/step\n",
            "Downloading data from https://raw.githubusercontent.com/tintinweb/smart-contract-sanctuary/master/contracts/mainnet/d0/d0f082ac1eebcb73a62449cbc3bf0ef929c5bd38_MithrilSword.sol\n",
            "16384/4144 [======================================================================================================================] - 0s 0us/step\n",
            "Downloading data from https://raw.githubusercontent.com/tintinweb/smart-contract-sanctuary/master/contracts/mainnet/7c/7c7cbe140194d6b5866ee1fdf667a10e52bb67cc_MithrilAxe.sol\n",
            "16384/4139 [======================================================================================================================] - 0s 0us/step\n",
            "Downloading data from https://raw.githubusercontent.com/tintinweb/smart-contract-sanctuary/master/contracts/mainnet/7b/7bdb9d2f09c49cadbc0a32296b37a78caaec0bb7_MithrilGauntlet.sol\n",
            "16384/4155 [======================================================================================================================] - 0s 0us/step\n",
            "Downloading data from https://raw.githubusercontent.com/tintinweb/smart-contract-sanctuary/master/contracts/mainnet/8f/8f21997a58699a06b9462e52ae4bfbc7339332a2_MithrilArrows.sol\n",
            "16384/4150 [======================================================================================================================] - 0s 0us/step\n",
            "Downloading data from https://raw.githubusercontent.com/tintinweb/smart-contract-sanctuary/master/contracts/mainnet/fe/fedfe337b4fff461d4b0d74da0307ee90b614cff_MithrilOre.sol\n",
            "16384/4142 [======================================================================================================================] - 0s 0us/step\n",
            "Downloading data from https://raw.githubusercontent.com/tintinweb/smart-contract-sanctuary/master/contracts/mainnet/7e/7ecbb5effa54e371cdf40b2db1dd6674106977fb_MithrilMace.sol\n",
            "16384/4144 [======================================================================================================================] - 0s 0us/step\n",
            "Downloading data from https://raw.githubusercontent.com/tintinweb/smart-contract-sanctuary/master/contracts/mainnet/cb/cbeea2e0c48f5bed015fe53bdc8fb643cfef7969_Crowdsale.sol\n",
            "16384/4267 [===================================================================================================================] - 0s 0us/step\n",
            "Downloading data from https://raw.githubusercontent.com/tintinweb/smart-contract-sanctuary/master/contracts/mainnet/c9/c9b40918a235946b3b9649c8b0719ff57c2f74ea_HealthCoin.sol\n",
            "16384/4081 [========================================================================================================================] - 0s 0us/step\n",
            "Downloading data from https://raw.githubusercontent.com/tintinweb/smart-contract-sanctuary/master/contracts/mainnet/df/dff8e7f5496d1e1a4af3497cb4712017a9c65442_DestiNeedToken.sol\n",
            "16384/7641 [================================================================] - 0s 0us/step\n",
            "Downloading data from https://raw.githubusercontent.com/tintinweb/smart-contract-sanctuary/master/contracts/mainnet/05/052d01d58729839b0fb9e321c63caf4f7a3de7fe_MainSale.sol\n",
            "24576/23348 [===============================] - 0s 0us/step\n",
            "32768/23348 [==========================================] - 0s 0us/step\n",
            "Downloading data from https://raw.githubusercontent.com/tintinweb/smart-contract-sanctuary/master/contracts/mainnet/13/13f1b7fdfbe1fc66676d56483e21b1ecb40b58e2_Accelerator.sol\n",
            "16384/11253 [===========================================] - 0s 0us/step\n",
            "24576/11253 [=================================================================] - 0s 0us/step\n",
            "Downloading data from https://raw.githubusercontent.com/tintinweb/smart-contract-sanctuary/master/contracts/mainnet/b0/b078c6c920bd68d3cdc9ab9e544b5bf0f45ead4e_TokenLab.sol\n",
            "16384/7961 [=============================================================] - 0s 0us/step\n",
            "Downloading data from https://raw.githubusercontent.com/tintinweb/smart-contract-sanctuary/master/contracts/mainnet/43/4310f1c214bd170e5ab0832534997689453c9a43_DickheadCash.sol\n",
            "16384/3784 [=================================================================================================================================] - 0s 0us/step\n",
            "Downloading data from https://raw.githubusercontent.com/tintinweb/smart-contract-sanctuary/master/contracts/mainnet/fe/fe0aba5926f3bd9cf0713cdee0c5041b610c8751_ThiccCoin.sol\n",
            "16384/6449 [============================================================================] - 0s 0us/step\n",
            "Downloading data from https://raw.githubusercontent.com/tintinweb/smart-contract-sanctuary/master/contracts/mainnet/09/09f5ee84f440eeba099fcfa6bcf421811a051168_ELTC.sol\n",
            "16384/3195 [=========================================================================================================================================================] - 0s 0us/step\n",
            "Downloading data from https://raw.githubusercontent.com/tintinweb/smart-contract-sanctuary/master/contracts/mainnet/f1/f1d9139c6512452db91f25635457b844d7e22b8b_CarbonTOKEN.sol\n",
            "16384/7631 [================================================================] - 0s 0us/step\n",
            "Downloading data from https://raw.githubusercontent.com/tintinweb/smart-contract-sanctuary/master/contracts/mainnet/cd/cd5c245a7fe35c5b638ac626ca258d33330d1e75_RenderTokenCrowdsale.sol\n",
            "16384/11889 [=========================================] - 0s 0us/step\n",
            "24576/11889 [==============================================================] - 0s 0us/step\n",
            "Downloading data from https://raw.githubusercontent.com/tintinweb/smart-contract-sanctuary/master/contracts/mainnet/94/942ffef843d37805c59f30fabb99b46aad135288_PreTgeExperty.sol\n",
            "16384/3681 [=====================================================================================================================================] - 0s 0us/step\n",
            "Downloading data from https://raw.githubusercontent.com/tintinweb/smart-contract-sanctuary/master/contracts/mainnet/d8/d87d3d9fb80a5f009b3812b536256b6f457176b1_Multiple3x.sol\n",
            "16384/3258 [======================================================================================================================================================] - 0s 0us/step\n",
            "Downloading data from https://raw.githubusercontent.com/tintinweb/smart-contract-sanctuary/master/contracts/mainnet/fe/fe17e67e1b2a69c24a4643442185ec821be0643a_BlackSnail.sol\n",
            "16384/6367 [=============================================================================] - 0s 0us/step\n",
            "Downloading data from https://raw.githubusercontent.com/tintinweb/smart-contract-sanctuary/master/contracts/mainnet/d3/d3ff6fa792732da88b08775b74a399e3a523a5e8_Broker.sol\n",
            "16384/6611 [==========================================================================] - 0s 0us/step\n",
            "Downloading data from https://raw.githubusercontent.com/tintinweb/smart-contract-sanctuary/master/contracts/mainnet/8b/8bc7468bfd4c09d334071e954e1b06eb0e6c67e3_STRIMToken.sol\n",
            "16384/11567 [==========================================] - 0s 0us/step\n",
            "24576/11567 [===============================================================] - 0s 0us/step\n",
            "Downloading data from https://raw.githubusercontent.com/tintinweb/smart-contract-sanctuary/master/contracts/mainnet/2e/2e9094044c13b0c7ce93ed0be8bd275f722f7d27_bet1000_1eth.sol\n",
            "16384/4663 [=========================================================================================================] - 0s 0us/step\n",
            "Downloading data from https://raw.githubusercontent.com/tintinweb/smart-contract-sanctuary/master/contracts/mainnet/95/95c38ce6647c91205d53d73b0e8552062b095f91_bet1000_01eth.sol\n",
            "16384/4667 [=========================================================================================================] - 0s 0us/step\n",
            "Downloading data from https://raw.githubusercontent.com/tintinweb/smart-contract-sanctuary/master/contracts/mainnet/ab/ab3b0810b839f49c2d619b55f196aae764422e22_bet1000_001eth.sol\n",
            "16384/4670 [=========================================================================================================] - 0s 0us/step\n",
            "Downloading data from https://raw.githubusercontent.com/tintinweb/smart-contract-sanctuary/master/contracts/mainnet/85/85e0ffc8f68b638e73a4c113f69e8dc9deb0d77d_LatiumLocker.sol\n",
            "16384/6374 [=============================================================================] - 0s 0us/step\n",
            "Downloading data from https://raw.githubusercontent.com/tintinweb/smart-contract-sanctuary/master/contracts/mainnet/13/1363d909a1ef96b475e5ee6e514fb87d4ac5a293_LatiumLocker.sol\n",
            "16384/6173 [===============================================================================] - 0s 0us/step\n",
            "Downloading data from https://raw.githubusercontent.com/tintinweb/smart-contract-sanctuary/master/contracts/mainnet/c3/c35dce7925cb3a33406abda3158a336f0a59cc0a_CryptoTicketsICO.sol\n",
            "16384/12139 [========================================] - 0s 0us/step\n",
            "24576/12139 [============================================================] - 0s 0us/step\n",
            "Downloading data from https://raw.githubusercontent.com/tintinweb/smart-contract-sanctuary/master/contracts/mainnet/06/068696A3cf3c4676B65F1c9975dd094260109d02_DadaCollectible.sol\n",
            "24576/19955 [====================================] - 0s 0us/step\n",
            "32768/19955 [=================================================] - 0s 0us/step\n",
            "Downloading data from https://raw.githubusercontent.com/tintinweb/smart-contract-sanctuary/master/contracts/mainnet/fd/fd6ecfe1cc8cc5a0e49961b34c20ba6577c60df8_Vault.sol\n",
            "16384/2478 [======================================================================================================================================================================================================] - 0s 0us/step\n",
            "Downloading data from https://raw.githubusercontent.com/tintinweb/smart-contract-sanctuary/master/contracts/mainnet/b2/b2bfeb70b903f1baac7f2ba2c62934c7e5b974c4_BKB.sol\n",
            "16384/5307 [============================================================================================] - 0s 0us/step\n",
            "Downloading data from https://raw.githubusercontent.com/tintinweb/smart-contract-sanctuary/master/contracts/mainnet/75/75088a29163Dae5687b08b99D9d2f04eBc4F9A04_TUBE.sol\n"
          ]
        }
      ]
    },
    {
      "cell_type": "markdown",
      "metadata": {
        "id": "dlAayvngmMVa"
      },
      "source": [
        "## Training\n",
        "\n",
        "1. we're creating a new model with `embedding_dimension` and `rnn_units`.\n",
        "2. then we pick shuffled samples from the input dataset. \n",
        "3. we output the model characteristics.\n",
        "4. we start training the model for `epochs`.\n",
        "\n",
        "this will take some time. grab coffee ☕"
      ]
    },
    {
      "cell_type": "code",
      "metadata": {
        "colab": {
          "base_uri": "https://localhost:8080/"
        },
        "id": "2ah8nJ_E9R2-",
        "outputId": "20ce464e-b16c-4b71-cef1-98e023b4a180"
      },
      "source": [
        "print(f'Input characters: {trainingData.len}')\n",
        "\n",
        "# The unique characters in the file\n",
        "print(f'Vocab (unique chars): {len(trainingData.vocab)}')\n",
        "\n",
        "# Take a look at the first 250 characters in text\n",
        "print('First 250 chars:')\n",
        "print(\"<----------------------------------------\")\n",
        "print(trainingData.text[:250])\n",
        "print(\"---------------------------------------->\")\n",
        "\n",
        "\n",
        "####### - create model and train it\n",
        "trainingData.newModel(embedding_dim=256, rnn_units=1024)\n",
        "\n",
        "dataset = trainingData.getSampledDataset(seq_length=250, batch_size=64, buffer_size=10000)\n",
        "\n",
        "trainingData.model.summary()\n",
        "\n",
        "trainingData.train(dataset, epochs=15)\n"
      ],
      "execution_count": null,
      "outputs": [
        {
          "output_type": "stream",
          "name": "stdout",
          "text": [
            "Length of text: 15001466 characters\n",
            "140 unique characters\n",
            "First 250 chars:\n",
            "<--------------------\n",
            "contract ERC20 {\n",
            "  uint public totalSupply;\n",
            "  function balanceOf(address who) constant returns (uint);\n",
            "  function allowance(address owner, address spender) constant returns (uint);\n",
            "  function transfer(address to, uint value) returns (bool ok);\n",
            "  func\n",
            "-------------------->\n",
            "(64, 250, 141) # (batch_size, sequence_length, vocab_size)\n",
            "Model: \"my_model\"\n",
            "_________________________________________________________________\n",
            " Layer (type)                Output Shape              Param #   \n",
            "=================================================================\n",
            " embedding (Embedding)       multiple                  36096     \n",
            "                                                                 \n",
            " gru (GRU)                   multiple                  3938304   \n",
            "                                                                 \n",
            " dense (Dense)               multiple                  144525    \n",
            "                                                                 \n",
            "=================================================================\n",
            "Total params: 4,118,925\n",
            "Trainable params: 4,118,925\n",
            "Non-trainable params: 0\n",
            "_________________________________________________________________\n",
            "Epoch 1/15\n",
            "933/933 [==============================] - 292s 307ms/step - loss: 1.1089\n",
            "Epoch 2/15\n",
            "933/933 [==============================] - 291s 308ms/step - loss: 0.4350\n",
            "Epoch 3/15\n",
            "933/933 [==============================] - 292s 310ms/step - loss: 0.3429\n",
            "Epoch 4/15\n",
            "933/933 [==============================] - 293s 310ms/step - loss: 0.2976\n",
            "Epoch 5/15\n",
            "933/933 [==============================] - 293s 310ms/step - loss: 0.2707\n",
            "Epoch 6/15\n",
            "933/933 [==============================] - 293s 310ms/step - loss: 0.2537\n",
            "Epoch 7/15\n",
            "933/933 [==============================] - 293s 310ms/step - loss: 0.2425\n",
            "Epoch 8/15\n",
            "933/933 [==============================] - 293s 310ms/step - loss: 0.2349\n",
            "Epoch 9/15\n",
            "933/933 [==============================] - 293s 310ms/step - loss: 0.2300\n",
            "Epoch 10/15\n",
            "933/933 [==============================] - 293s 310ms/step - loss: 0.2271\n",
            "Epoch 11/15\n",
            "933/933 [==============================] - 293s 310ms/step - loss: 0.2246\n",
            "Epoch 12/15\n",
            "933/933 [==============================] - 292s 310ms/step - loss: 0.2241\n",
            "Epoch 13/15\n",
            "933/933 [==============================] - 293s 310ms/step - loss: 0.2239\n",
            "Epoch 14/15\n",
            "625/933 [===================>..........] - ETA: 1:35 - loss: 0.2205"
          ]
        }
      ]
    },
    {
      "cell_type": "markdown",
      "metadata": {
        "id": "tS6R6m1EnBcX"
      },
      "source": [
        "## Hallucinate\n",
        "\n",
        "Predict up to `num_characters=2000` starting from a specific set of seeds `['contract ']`.\n",
        "\n",
        "This example should start hallucinating new solidity contracts starting from the `contract` keyword 💪."
      ]
    },
    {
      "cell_type": "code",
      "metadata": {
        "colab": {
          "base_uri": "https://localhost:8080/"
        },
        "id": "mZtwtDMbADDZ",
        "outputId": "ead0aae6-97c6-46bf-8a62-fe5810a6673c"
      },
      "source": [
        "## first run\n",
        "start = time.time()\n",
        "#\n",
        "#\n",
        "#\n",
        "textOut = trainingData.predict(['contract '], 2000)\n",
        "#\n",
        "#\n",
        "#\n",
        "print(textOut, '\\n\\n' + '_'*80)\n",
        "end = time.time()\n",
        "print('\\nRun time:', end - start)\n",
        "\n",
        "\n"
      ],
      "execution_count": null,
      "outputs": [
        {
          "output_type": "stream",
          "name": "stdout",
          "text": [
            "contract AcceptsHalo3D playersCoin\";\n",
            "    uint32[4] public ICOperation;\n",
            "    string public symbol;\n",
            "    uint8 public constant decimals = 18;\n",
            "    mapping (address => uint256) public balancesForAmount m;\n",
            "        uint256 rebeaseSobISs;\n",
            "        bool public founder = msg.sender;\n",
            "        unlockTime = _unixTime;\n",
            "    }\n",
            "    function calculatePoohsBytes32(string extends) throw;\n",
            "      _;\n",
            "    }\n",
            "    modifier onlyStronghands() {\n",
            "        require(myTokens() > 0);\n",
            "        _;\n",
            "    }\n",
            "    modifier contract_etherwowder() {\n",
            "        require(msg.sender==oneTokenInFiatWei));\n",
            "        _;\n",
            "    }\n",
            "    modifier notNull(address _to) {\n",
            "        emit DividendTokenBalanceLedger_[msg.sender] = mintedAmount;\n",
            "        emit TokensUsedRate(_tokenAddress].time);\n",
            "        if (currentEthInvested < 0)\n",
            "        {\n",
            "            deposited += msg.value;\n",
            "            tokens[0] = _senderToAmount;\n",
            "            minerShare_ = SafeMath.ack(_eth, _amt[i]);\n",
            "            }\n",
            "        }\n",
            "    }\n",
            "    function executeTransaction(uint _required)\n",
            "        public\n",
            "        view\n",
            "        returns (uint)\n",
            "    {\n",
            "        uint[] memory next = entry.bet;                     \n",
            "        for (uint i=0; i<transactionCount; i++)\n",
            "            _twe.SafeMath.add(numTokenSold()); h -= mloa;\n",
            "          privateSele1 tokens = presaleFundsRaisedInWei.add(walletAmount.sub(roundOneLimit) - maxTierAmountBooks);\n",
            "            emit Transfer(msg.sender, toAddress, tokens);\n",
            "            emit TokensUnlockedToken(softCapToken, balanceLimit);\n",
            "            accountsZoLastRefreshTime[i] = block.timestamp - userSupportAmount;\n",
            "        }else{\n",
            "            emit eCancelNominatingXPAAssets(address(champ.forTokens,ConversePaymentChecksAndRole, started, migrationStarted, newCreateTokenExchangeRate);\n",
            "        }\n",
            "        if (available1 < startReleasable) {\n",
            "                Donarcherabled(hashOveredOneGoO[bs);\n",
            "            Transfer(0xcaneBalance[msg.sender]]);\n",
            "        }\n",
            "        if (currentAuction(_target).balanceOf(_to) <= _currentExchange);\n",
            "        LodeTrustedivitementable(_tokenAddress, _tokens);\n",
            "    }\n",
            "    function \n",
            "\n",
            "________________________________________________________________________________\n",
            "\n",
            "Run time: 8.048772096633911\n"
          ]
        }
      ]
    },
    {
      "cell_type": "markdown",
      "metadata": {
        "id": "XpApjarOm1qS"
      },
      "source": [
        "## (OPTIONAL) - ReTrain the model\n",
        "\n",
        "this can be used to incrementally re-train the model. This should allows us to continuously improve it with new data from the dataset.\n",
        "\n",
        "**Note** - lol, this doesn't seem to work as expected. **increasing loss** checks out 😂😂. @todo fix this sometime."
      ]
    },
    {
      "cell_type": "code",
      "metadata": {
        "colab": {
          "base_uri": "https://localhost:8080/"
        },
        "id": "mgY6rpYrumse",
        "outputId": "915986b2-64b4-4830-e60c-3843ab16a4c3"
      },
      "source": [
        "dataset = trainingData.getSampledDataset(seq_length=250, batch_size=64, buffer_size=10000)\n",
        "\n",
        "trainingData.model.summary()\n",
        "\n",
        "trainingData.train(dataset, epochs=10)"
      ],
      "execution_count": null,
      "outputs": [
        {
          "output_type": "stream",
          "name": "stdout",
          "text": [
            "Model: \"my_model\"\n",
            "_________________________________________________________________\n",
            " Layer (type)                Output Shape              Param #   \n",
            "=================================================================\n",
            " embedding (Embedding)       multiple                  28160     \n",
            "                                                                 \n",
            " gru (GRU)                   multiple                  3938304   \n",
            "                                                                 \n",
            " dense (Dense)               multiple                  112750    \n",
            "                                                                 \n",
            "=================================================================\n",
            "Total params: 4,079,214\n",
            "Trainable params: 4,079,214\n",
            "Non-trainable params: 0\n",
            "_________________________________________________________________\n",
            "Epoch 1/10\n",
            "920/920 [==============================] - 65s 67ms/step - loss: 0.3467\n",
            "Epoch 2/10\n",
            "920/920 [==============================] - 64s 68ms/step - loss: 0.3544\n",
            "Epoch 3/10\n",
            "920/920 [==============================] - 64s 69ms/step - loss: 0.3658\n",
            "Epoch 4/10\n",
            "920/920 [==============================] - 64s 68ms/step - loss: 0.3779\n",
            "Epoch 5/10\n",
            "920/920 [==============================] - 64s 68ms/step - loss: 0.3923\n",
            "Epoch 6/10\n",
            "920/920 [==============================] - 64s 68ms/step - loss: 0.4075\n",
            "Epoch 7/10\n",
            "920/920 [==============================] - 64s 69ms/step - loss: 0.4262\n",
            "Epoch 8/10\n",
            "920/920 [==============================] - 64s 68ms/step - loss: 0.4500\n",
            "Epoch 9/10\n",
            "920/920 [==============================] - 64s 68ms/step - loss: 0.4743\n",
            "Epoch 10/10\n",
            "920/920 [==============================] - 64s 69ms/step - loss: 0.5103\n"
          ]
        }
      ]
    },
    {
      "cell_type": "markdown",
      "metadata": {
        "id": "vEAIKCt3naTI"
      },
      "source": [
        "## Saving and Restoring the model\n",
        "\n",
        "let's save the model, restore it from the saved state, and hallucinate more solidity code 🙌"
      ]
    },
    {
      "cell_type": "code",
      "metadata": {
        "colab": {
          "base_uri": "https://localhost:8080/"
        },
        "id": "DKmUiqR8tHFZ",
        "outputId": "c002f1a0-dbc5-4f42-ae97-6cc291ae555c"
      },
      "source": [
        "trainingData.save_model(\"solidity_model\")"
      ],
      "execution_count": null,
      "outputs": [
        {
          "output_type": "stream",
          "name": "stdout",
          "text": [
            "WARNING:tensorflow:Skipping full serialization of Keras layer <soliditygen.OneStep object at 0x7f8b35e64b90>, because it is not built.\n"
          ]
        },
        {
          "output_type": "stream",
          "name": "stderr",
          "text": [
            "WARNING:absl:Found untraced functions such as gru_cell_layer_call_fn, gru_cell_layer_call_and_return_conditional_losses, gru_cell_layer_call_fn, gru_cell_layer_call_and_return_conditional_losses, gru_cell_layer_call_and_return_conditional_losses while saving (showing 5 of 5). These functions will not be directly callable after loading.\n"
          ]
        },
        {
          "output_type": "stream",
          "name": "stdout",
          "text": [
            "INFO:tensorflow:Assets written to: one_step/assets\n"
          ]
        },
        {
          "output_type": "stream",
          "name": "stderr",
          "text": [
            "INFO:tensorflow:Assets written to: one_step/assets\n"
          ]
        }
      ]
    },
    {
      "cell_type": "code",
      "metadata": {
        "id": "Elf61diwlIPn"
      },
      "source": [
        "###\n",
        "trainingData.load_model(\"solidity_model\") # reloaded\n",
        "\n",
        "## 2nd run\n",
        "\n",
        "start = time.time()\n",
        "textOut = trainingData.predict(['contract ', 'contract ', 'abstract ', 'interface ', 'library '], 3000)\n",
        "print(textOut, '\\n\\n' + '_'*80)\n",
        "end = time.time()\n",
        "print('\\nRun time:', end - start)"
      ],
      "execution_count": null,
      "outputs": []
    },
    {
      "cell_type": "markdown",
      "metadata": {
        "id": "1V3_WkMGnqDf"
      },
      "source": [
        "## Export model to tensorflowjs\n",
        "\n",
        "We want to make the model available in `tensorflowjs` so that we can easily generate solidity code from a webpage. For this we will have to convert the keras model from tensorflow format to tensorflowjs.\n",
        "\n",
        "This notebook will then zip the model and provide it as a download."
      ]
    },
    {
      "cell_type": "code",
      "metadata": {
        "id": "c4tDuxdXB6c7"
      },
      "source": [
        "!pip install tensorflowjs\n",
        "import tensorflowjs as tfjs\n",
        "!ls -lsat .\n",
        "!mkdir  solidity_model\n",
        "one_step_model.save_weights('solidity_model/weights.h5')\n",
        "\n",
        "#tf.saved_model.save(one_step_model, 'one_step_export_tin_2mb_20epochs_18min_training')\n",
        "#tfjs.converters.convert_tf_saved_model(\"one_step_export_tin_2mb_20epochs_18min_training\", \"tfjs_out\")\n",
        "#tfjs.converters.save_keras_model(one_step_model, \"./one_step_export_tin_2mb_20epochs_18min_training-js/\")\n",
        "!mkdir  solidity_model/js-out\n",
        "!ls -lsat ./solidity_model/\n",
        "!tensorflowjs_converter --input_format keras solidity_model/weights.h5 ./solidity_model/js-out/\n",
        "!ls -lsat ./solidity_model/js-out/\n",
        "\n",
        "from google.colab import files\n",
        "!zip -r solidity_model.zip ./solidity_model/js-out\n",
        "files.download('solidity_model.zip') "
      ],
      "execution_count": null,
      "outputs": []
    }
  ]
}